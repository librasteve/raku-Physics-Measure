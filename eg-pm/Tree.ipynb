{
 "cells": [
  {
   "cell_type": "code",
   "execution_count": 2,
   "metadata": {},
   "outputs": [
    {
     "data": {
      "image/svg+xml": [
       "<svg xmlns=\"http://www.w3.org/2000/svg\" xmlns:svg=\"http://www.w3.org/2000/svg\" xmlns:xlink=\"http://www.w3.org/1999/xlink\" height=\"768\" width=\"1024\"><g><polygon points=\"100, 50 75, 93.3012701892219 125, 93.3012701892219\" stroke=\"green\" stroke-width=\"3\" fill=\"green\" />\n",
       "<polygon points=\"100, 75 62.5, 139.951905283833 137.5, 139.951905283833\" stroke=\"green\" stroke-width=\"3\" fill=\"green\" />\n",
       "<polygon points=\"100, 100 50, 186.602540378444 150, 186.602540378444\" stroke=\"green\" stroke-width=\"3\" fill=\"green\" />\n",
       "<rect x=\"90\" y=\"185\" width=\"20\" height=\"40\" stroke=\"brown\" stroke-width=\"3\" fill=\"brown\" />\n",
       "</g>\n",
       "</svg>\n",
       "\n"
      ]
     },
     "metadata": {},
     "output_type": "display_data"
    }
   ],
   "source": [
    "use lib '../lib';\n",
    "use Math::Polygons;\n",
    "use Math::Polygons::Drawing;\n",
    "\n",
    "my $tri1 = Triangle.new(stroke => \"green\", fill => \"green\", \n",
    "                apex => Point.new(100, 50),\n",
    "                side => 50, \n",
    "            );  \n",
    "my $tri2 = Triangle.new(stroke => \"green\", fill => \"green\", \n",
    "                apex => Point.new(100, 75),\n",
    "                side => 75, \n",
    "            );  \n",
    "my $tri3 = Triangle.new(stroke => \"green\", fill => \"green\", \n",
    "                apex => Point.new(100, 100),\n",
    "                side => 100,\n",
    "            );  \n",
    "my $rect  = Rectangle.new(stroke => \"brown\", fill => \"brown\",\n",
    "                origin  => Point.new(90, 185),\n",
    "                width   => 20, \n",
    "                height  => 40, \n",
    "            );  \n",
    "\n",
    "my $tree = Group.new( elements => [ $tri1, $tri2, $tri3, $rect ] );\n",
    "my $drawing = Drawing.new( elements => $tree );\n",
    "$drawing.serialize.say;"
   ]
  },
  {
   "cell_type": "code",
   "execution_count": null,
   "metadata": {},
   "outputs": [],
   "source": []
  }
 ],
 "metadata": {
  "kernelspec": {
   "display_name": "Perl 6",
   "language": "perl6",
   "name": "perl6"
  },
  "language_info": {
   "file_extension": ".p6",
   "mimetype": "text/plain",
   "name": "perl6",
   "version": "6.c"
  }
 },
 "nbformat": 4,
 "nbformat_minor": 2
}
