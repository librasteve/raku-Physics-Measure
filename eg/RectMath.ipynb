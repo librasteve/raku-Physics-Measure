{
 "cells": [
  {
   "cell_type": "code",
   "execution_count": 2,
   "metadata": {},
   "outputs": [
    {
     "data": {
      "text/plain": [
       "(M-Square)"
      ]
     },
     "execution_count": 2,
     "metadata": {},
     "output_type": "execute_result"
    }
   ],
   "source": [
    "use Math::Polygons;\n",
    "use Physics::Measure;\n",
    "\n",
    "#This Jupyter notebook is intended to show how Physics::Measure can be combined with simple SVG drawings to illustrate\n",
    "#simple concepts such as how many gallons does it take to fill a swimming pool.\n",
    "\n",
    "#This cell is needed to specialize the math classes such as Drawing, Point and Rectangle provided by Math::Polygons\n",
    "#by mixing in the Physics::Measure concepts such as Distance and Area. Usually this cell should be left unchanged.\n",
    "\n",
    "class M-Drawing is Drawing {\n",
    "    has Str $!scale-units = 'm';\n",
    "\n",
    "    method scale() {\n",
    "        @.elements.map(-> $e { $e.scale( $!scale-units ) });\n",
    "    }\n",
    "}\n",
    "class M-Point is Point {\n",
    "    has Distance $.x;\n",
    "    has Distance $.y;\n",
    "\n",
    "    method scale( $su ) {\n",
    "        $!x .= in( \"$su\" ); \n",
    "        $!y .= in( \"$su\" ); \n",
    "    }\n",
    "}\n",
    "class M-Rectangle is Rectangle {\n",
    "    has M-Point  $.origin;\n",
    "    has Distance $.width is rw;\n",
    "    has Distance $.height is rw;\n",
    "\n",
    "    method scale( $su ) {\n",
    "        $!width  .= in( \"$su\" ); \n",
    "        $!height .= in( \"$su\" ); \n",
    "    }\n",
    "    method area( --> Area ) {\n",
    "        $.height * $.width\n",
    "    }\n",
    "}\n",
    "class M-Square is Square {\n",
    "    has M-Point  $.origin;\n",
    "    has Distance $.side is rw;\n",
    "\n",
    "    method scale( $su ) {\n",
    "        $!side .= in( \"$su\" ); \n",
    "    }\n",
    "    method area( --> Area ) {\n",
    "        $.side ** 2\n",
    "    }\n",
    "}\n",
    "#### here endeth the specializations"
   ]
  },
  {
   "cell_type": "code",
   "execution_count": 9,
   "metadata": {},
   "outputs": [
    {
     "name": "stdout",
     "output_type": "stream",
     "text": [
      "Square Side:       100 ft\n",
      "Square Area:       10000 ft2\n"
     ]
    }
   ],
   "source": [
    "use Physics::Measure;\n",
    "\n",
    "#Here is the main part of this code example. This cell is a great place to experiment with values and units and to \n",
    "#see what is going on within the various rectagular objects. Checkout the eg/Synopsis workbook to get a better idea \n",
    "#of what can be done with Physics::Measure and the usage of the ♎️ (libra) operator shorthand.\n",
    "\n",
    "my $x ♎️ '30 m';\n",
    "my $y ♎️ '20 m';\n",
    "my $w ♎️ '120 m';\n",
    "my $h ♎️ '80 m';\n",
    "my $s ♎️ '100 ft';\n",
    "\n",
    "my $rectangle = M-Rectangle.new(\n",
    "    origin => M-Point.new($x, $y),\n",
    "    width  => $w,\n",
    "    height => $h, \n",
    ");\n",
    "my $square = M-Square.new(\n",
    "    origin => M-Point.new( ( ( 2 * $x ) + $w ), $y),\n",
    "    side   => $s, \n",
    ");\n",
    "my $drawing = M-Drawing.new( elements => [\n",
    "    $rectangle,\n",
    "    $square,\n",
    "]);\n",
    "\n",
    "#pre scale & draw\n",
    "say \"Square Side:       {$square.side}\";\n",
    "say \"Square Area:       {$square.area}\";"
   ]
  },
  {
   "cell_type": "code",
   "execution_count": 7,
   "metadata": {},
   "outputs": [
    {
     "data": {
      "image/svg+xml": [
       "<svg xmlns=\"http://www.w3.org/2000/svg\" xmlns:svg=\"http://www.w3.org/2000/svg\" xmlns:xlink=\"http://www.w3.org/1999/xlink\" height=\"768\" width=\"1024\"><rect x=\"30\" y=\"20\" width=\"120\" height=\"80\" stroke=\"blue\" stroke-width=\"3\" fill=\"red\" />\n",
       "<rect x=\"180\" y=\"20\" width=\"100\" height=\"100\" stroke=\"blue\" stroke-width=\"3\" fill=\"red\" />\n",
       "</svg>\n",
       "\n"
      ]
     },
     "metadata": {},
     "output_type": "display_data"
    }
   ],
   "source": [
    "#Now to draw the objects\n",
    "\n",
    "$drawing.scale;\n",
    "$drawing.serialize.say;"
   ]
  },
  {
   "cell_type": "code",
   "execution_count": 6,
   "metadata": {},
   "outputs": [
    {
     "name": "stdout",
     "output_type": "stream",
     "text": [
      "Rectangle Width:   120 m\n",
      "Rectangle Height:  80 m\n",
      "Rectangle Area:    9600 m2\n",
      "Square Side:       30.48 m\n",
      "Square Area:       929.0304 m2\n"
     ]
    }
   ],
   "source": [
    "#And finally to do some math and see how Physics::Measure automagically adapts the units and values\n",
    "\n",
    "say \"Rectangle Width:   {$rectangle.width}\";\n",
    "say \"Rectangle Height:  {$rectangle.height}\";\n",
    "say \"Rectangle Area:    {$rectangle.area}\";\n",
    "say \"Square Side:       {$square.side}\";\n",
    "say \"Square Area:       {$square.area}\";"
   ]
  },
  {
   "cell_type": "code",
   "execution_count": null,
   "metadata": {},
   "outputs": [],
   "source": []
  }
 ],
 "metadata": {
  "kernelspec": {
   "display_name": "Perl 6",
   "language": "perl6",
   "name": "perl6"
  },
  "language_info": {
   "file_extension": ".p6",
   "mimetype": "text/plain",
   "name": "perl6",
   "version": "6.d"
  }
 },
 "nbformat": 4,
 "nbformat_minor": 2
}
