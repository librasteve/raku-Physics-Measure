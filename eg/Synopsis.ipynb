{
 "cells": [
  {
   "cell_type": "code",
   "execution_count": 8,
   "metadata": {},
   "outputs": [
    {
     "name": "stdout",
     "output_type": "stream",
     "text": [
      "Physics::Measure::Distance.new(units => \"m\" ... )\n",
      "Physics::Unit::Unit.new(name => \"m\", unitsof => \"Distance\" ... )\n",
      "50\n",
      "50 m\n",
      "50 m\n"
     ]
    }
   ],
   "source": [
    "use Physics::Measure;\n",
    "use Physics::Measure::Unit;\n",
    "\n",
    "#Types can be declared and constructed formally:\n",
    "    my Unit $u     .=new(name => 'm', unitsof => 'Distance');       #new Units for new Measure\n",
    "    my Distance $a .=new(value => 1e4, units => $u);                #'10000 m'\n",
    "    my Distance $b .=new(value => 42);                              #'42 m' default units\n",
    "    my Distance $c;\n",
    "\n",
    "#The libra operator ♎️ is a handy way to create instances and to set defaults...\n",
    "    my $d ♎️ '5e1 m';      #'50 m' (Distance) from Str\n",
    "    my $e ♎️ $a;           #'10000 m'\n",
    "#...and to assign (coerce) from a Real or Str immediate value\n",
    "    $a ♎️ 3e1;          #'30 m'\n",
    "    $a ♎️ '3 yards';    #'3 yards'\n",
    "    $a ♎️ '5';          #'5 yards'\n",
    "#...there is an ASCII version of <♎️> namely <libra> \n",
    "\n",
    "#Plural and Singular names are handled as you would expect\n",
    "    $a ♎️ -1;           #'-1 yard'\n",
    "\n",
    "#To check what you have\n",
    "    say $d.gist;        #Physics::Measure::Distance.new(value => 50e0, units => \"m\" ... )\n",
    "    say $u.gist;        #Physics::Unit::Unit.new(name => \"m\", unitsof => \"Distance\" ...)\n",
    "    say $d.Real;        #50   or use $d in Real context (Real includes Int|Rat|Num etc)\n",
    "    say $d.Str;         #50 m or use $d in Str context\n",
    "    say \"$d\";           #50 m"
   ]
  },
  {
   "cell_type": "code",
   "execution_count": 13,
   "metadata": {},
   "outputs": [
    {
     "name": "stdout",
     "output_type": "stream",
     "text": [
      "-69 m\n"
     ]
    }
   ],
   "source": [
    "use Physics::Measure;\n",
    "\n",
    "#The usual arithmetic operators < + - * / > and () brackets just work\n",
    "#i.e. units and magnitudes are checked, calculated and errors are calculated automatically    \n",
    "    $a ♎️ '4.3 m';      #'4.3 m' \n",
    "    $b ♎️ -2.3;         #'-2.3 m'\n",
    "    $c = $a + $b;       #'2 m'\n",
    "    $c = $a + '42 m';   #'46.3 m'\n",
    "    $c = $b - $a;       #'-6.6 m'\n",
    "    $c = '1 m' - $a;    #'-3.3 m' \n",
    "#Division like for like produces a Real value such as a Rat\n",
    "    my Real $r = $a / $b; #'-1.869565'\n",
    "#Multiply with & Divide by a Real imply a constant factor...\n",
    "    $c = $b * 30;       #'-69 m'\n",
    "\n",
    "say \"$c\";"
   ]
  },
  {
   "cell_type": "code",
   "execution_count": 14,
   "metadata": {},
   "outputs": [
    {
     "name": "stdout",
     "output_type": "stream",
     "text": [
      "-162 s\n"
     ]
    }
   ],
   "source": [
    "use Physics::Measure;\n",
    "\n",
    "#The Measure of Time has a perl6 Duration - i.e. the difference between two perl6 DateTime Instants:\n",
    "    my $i1 = DateTime.now;\n",
    "    my $i2 = DateTime.new( '2017-08-10T14:15:27.26Z' );\n",
    "    my $i3 = DateTime.new( '2017-08-10T14:15:37.26Z' );\n",
    "    my Duration $dur = $i3-$i2; #say \"Duration of $dur seconds\";\n",
    "\n",
    "    my Unit $v  .=new( name => 's', unitsof => 'Time' );\n",
    "    my Time $t0 .=new( value => 23.3, units => $v );    #'23.3 s'\n",
    "    my Time $t1 .=new( value => $dur, units => $v );    #'10 s'\n",
    "    \n",
    "#Here's how to us the libra assignment operator ♎️ for Time...\n",
    "    my Time $t2 ♎️ '50 s';       #50 s\n",
    "    my Time $t3 ♎️ $t1;          #10 s\n",
    "    my Time $t4 ♎️ 172;          #10 s\n",
    "\n",
    "#...and to assign (coerce) from a Real or Str immediate value\n",
    "    my Time $t5 ♎️ '3e2 s';      #30 s\n",
    "    my Time $t6 ♎️ 42;           #42 s\n",
    "\n",
    "    my $t7 = $t1 + $t2;         #60 s\n",
    "    my $t8 = $t3 - $t4;         #-162 s\n",
    "    my Duration $d8 = $t8.Duration;\n",
    "    my Time $t10 ♎️ '2 hours';\n",
    "    \n",
    "say \"$t8\";"
   ]
  },
  {
   "cell_type": "code",
   "execution_count": 27,
   "metadata": {},
   "outputs": [
    {
     "name": "stdout",
     "output_type": "stream",
     "text": [
      "3.6576 m\n"
     ]
    }
   ],
   "source": [
    "use Physics::Measure;\n",
    "\n",
    "#Unit Conversion uses the .in() method - specify the new units as a String parameter\n",
    "    my Distance $d-fe ♎️ '12.0 feet';\n",
    "    my $d-me3 = $d-fe.in( 'm' );            #3.6576 m\n",
    "      #$d-me3 = $d-fe.in: <m> ;             #3.6576 m alternate form\n",
    "       \n",
    "say \"$d-me3\";"
   ]
  },
  {
   "cell_type": "code",
   "execution_count": 28,
   "metadata": {},
   "outputs": [
    {
     "name": "stdout",
     "output_type": "stream",
     "text": [
      "312.15 K and 39 °C are the same\n"
     ]
    }
   ],
   "source": [
    "use Physics::Measure;\n",
    "\n",
    "my Temperature $deg-c ♎️ '39 °C';\n",
    "my $deg-k  = $deg-c.in( 'K'  );         #312.15 K\n",
    "my $deg-cr = $deg-k.in( '°C' );         #39 °C\n",
    "\n",
    "say \"$deg-k and $deg-cr are the same\""
   ]
  },
  {
   "cell_type": "code",
   "execution_count": 19,
   "metadata": {},
   "outputs": [
    {
     "name": "stdout",
     "output_type": "stream",
     "text": [
      "0.02381 Hz\n"
     ]
    }
   ],
   "source": [
    "use Physics::Measure;\n",
    "\n",
    "#Use arithmetic to get high order or inverse Unit types such as Area, Volume, Frequency, etc.\n",
    "    #my Area    $a-m2 = $d * $d;              #2500 m2\n",
    "    #my Speed      $s = $d / $t6;             #1.19047619047619 m/s\n",
    "    my Frequency   $f = 1  / $t6;             #0.023810 Hz\n",
    "    \n",
    "say \"$f\";"
   ]
  },
  {
   "cell_type": "code",
   "execution_count": 32,
   "metadata": {},
   "outputs": [
    {
     "name": "stdout",
     "output_type": "stream",
     "text": [
      "125000 m3\n"
     ]
    }
   ],
   "source": [
    "use Physics::Measure;\n",
    "    \n",
    "#Use powers & roots in a similar way\n",
    "    #my $d-fe2 = $d-fe ** 2;                   #Area 144 feet2\n",
    "    my Volume  $v-m3 = $d ** 3;               #125000 m3\n",
    "    #my Distance $a-m = $v-m3 ** <1/3>;       #50 m -- <1/3> is a fraction(Rat)\n",
    "    \n",
    "say \"$v-m3\";"
   ]
  },
  {
   "cell_type": "code",
   "execution_count": 21,
   "metadata": {},
   "outputs": [
    {
     "name": "stdout",
     "output_type": "stream",
     "text": [
      "5.35188400589 m3\n"
     ]
    }
   ],
   "source": [
    "use Physics::Measure;\n",
    "\n",
    "#Conversion of high order or inverse Units of same Type also uses .in() \n",
    "    my Volume $v-y31 ♎️ '7 yards3';\n",
    "    my $v-m31 = $v-y31.in( 'm3' );           #5.35188400589 m3\n",
    "    \n",
    "say \"$v-m31\";"
   ]
  },
  {
   "cell_type": "code",
   "execution_count": 22,
   "metadata": {},
   "outputs": [
    {
     "name": "stdout",
     "output_type": "stream",
     "text": [
      "93.951324 miles/hours\n"
     ]
    }
   ],
   "source": [
    "use Physics::Measure;\n",
    "\n",
    "    my Speed $s-ms1 ♎️ '42 m/s';\n",
    "    my $s-mph2 = $s-ms1.in( 'miles/hours' ); #93.951324 miles/hours\n",
    "    #my $s-ms12 = $s-mph2.in( 'm/s' );       #42 m/s\n",
    "    #my Speed $s-fe = $d-fe / $t6;           #0.285714 feet.s-1\n",
    "    #my $sm ♎️ '70 mph';                     #Speed 70 mph\n",
    "\n",
    "say \"$s-mph2\";"
   ]
  },
  {
   "cell_type": "code",
   "execution_count": 31,
   "metadata": {},
   "outputs": [
    {
     "name": "stdout",
     "output_type": "stream",
     "text": [
      "0.02834467120181406 m.s-2\n"
     ]
    }
   ],
   "source": [
    "use Physics::Measure;\n",
    "\n",
    "    #my Speed $sp = $d / $t6;                #1.19047619047619 m/s\n",
    "    my Acceleration $dsdt = $d / $t6 ** 2;   #0.028344671201814 m/s^2\n",
    "\n",
    "say \"$dsdt\";"
   ]
  },
  {
   "cell_type": "code",
   "execution_count": 38,
   "metadata": {},
   "outputs": [
    {
     "name": "stdout",
     "output_type": "stream",
     "text": [
      "Normalizing Measures to base type for add.\n",
      "85 N\n"
     ]
    }
   ],
   "source": [
    "use Physics::Measure;\n",
    "\n",
    "    my Force $fo2 ♎️ '27 kg m / s^2';       #Force 27 kg m / s^2\n",
    "    my Force $fo3 ♎️ '58 kg.m.s-2';         #Force 58 kg.m.s-2\n",
    "    my Force $fo1 = $fo2 + $fo3;            #Force 85 N\n",
    "    \n",
    "say \"$fo1\";"
   ]
  },
  {
   "cell_type": "code",
   "execution_count": 35,
   "metadata": {},
   "outputs": [
    {
     "name": "stdout",
     "output_type": "stream",
     "text": [
      "26 kg m^2 / s^2\n"
     ]
    }
   ],
   "source": [
    "use Physics::Measure;\n",
    "\n",
    "    #my Energy $en1 ♎️ '7 J';                #Energy 7 J\n",
    "    my Energy $en2 ♎️ '26 kg m^2 / s^2';    #Energy 26 kg m^2 / s^2\n",
    "    \n",
    "say \"$en2\";"
   ]
  },
  {
   "cell_type": "code",
   "execution_count": 40,
   "metadata": {},
   "outputs": [
    {
     "name": "stdout",
     "output_type": "stream",
     "text": [
      "1134 m2.kg.s-2\n"
     ]
    }
   ],
   "source": [
    "use Physics::Measure;\n",
    "\n",
    "    my Power $po1 ♎️ '7 W';                 #Power 7W\n",
    "    my Power $po2 ♎️ '27 kg m^2 / s^3';     #Power 27 kg m^2 / s^3\n",
    "    my $en3 = $po2 * $t6;                   #Energy 1134 m2.kg.s-2\n",
    "\n",
    "say \"$en3\";"
   ]
  },
  {
   "cell_type": "code",
   "execution_count": 41,
   "metadata": {},
   "outputs": [
    {
     "name": "stdout",
     "output_type": "stream",
     "text": [
      "1134 J\n"
     ]
    }
   ],
   "source": [
    "use Physics::Measure;\n",
    "\n",
    "#Measures with a base type can be normalized with the .norm method\n",
    "    my $en4 = $en3.norm;                    #Energy 1134 J\n",
    "    \n",
    "say \"$en4\";"
   ]
  },
  {
   "cell_type": "code",
   "execution_count": 39,
   "metadata": {},
   "outputs": [
    {
     "name": "stdout",
     "output_type": "stream",
     "text": [
      "Normalizing Measures to base type for cmp.\n",
      "Same\n",
      "Normalizing Measures to base type for cmp.\n",
      "True\n",
      "Normalizing Measures to base type for cmp.\n",
      "False\n",
      "False\n",
      "True\n"
     ]
    }
   ],
   "source": [
    "use Physics::Measure;\n",
    "\n",
    "#Measures can be compared with $a cmp $b\n",
    "    my $af = $a.in: 'feet';                 #4.3 m => 14.107612 feet\n",
    "    say $af cmp $a;                         #Same\n",
    "#Measures can be tested for equality with Numeric ==,!=\n",
    "    say $af == $a;                          #True\n",
    "    say $af != $a;                          #False\n",
    "#Use string equality eq,ne to distinguish different units with same type  \n",
    "    say $af eq $a;                          #False\n",
    "    say $af ne $a;                          #True"
   ]
  },
  {
   "cell_type": "code",
   "execution_count": null,
   "metadata": {},
   "outputs": [],
   "source": [
    "#Colloquial terms or unicode superscripts can be used for powers in unitname declarations \n",
    "    #square, sq, squared, cubic, cubed\n",
    "    #x¹ x² x³ x⁴ and x⁻¹ x⁻² x⁻³ x⁻⁴"
   ]
  }
 ],
 "metadata": {
  "kernelspec": {
   "display_name": "Perl 6",
   "language": "perl6",
   "name": "perl6"
  },
  "language_info": {
   "file_extension": ".p6",
   "mimetype": "text/plain",
   "name": "perl6",
   "version": "6.d"
  }
 },
 "nbformat": 4,
 "nbformat_minor": 2
}
