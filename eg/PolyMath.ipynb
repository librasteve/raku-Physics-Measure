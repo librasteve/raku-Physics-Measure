{
 "cells": [
  {
   "cell_type": "code",
   "execution_count": 2,
   "metadata": {},
   "outputs": [
    {
     "data": {
      "text/plain": [
       "Two terms in a row"
      ]
     },
     "execution_count": 2,
     "metadata": {},
     "output_type": "execute_result"
    }
   ],
   "source": [
    "!/usr/bin/env perl6\n",
    "\n",
    "use lib '../lib';\n",
    "use Math::Polygons::Drawing;\n",
    "use Physics::Measure;\n",
    "\n",
    "#managed to break if put use Physics::Measure and use Physics::Unit in module Math::Polygons\n",
    "\n",
    "class Rectangle does Element {\n",
    "    has Point $.origin;\n",
    "    has       $.width;\n",
    "    has       $.height;\n",
    "     \n",
    "    method area() { \n",
    "        $.height * $.width \n",
    "    }   \n",
    "\n",
    "    method serialize( --> Pair) {\n",
    "        rect => [ x =>  $!origin.x, y => $!origin.y, width => $!width, height => $!height, |self.styles ];\n",
    "    }   \n",
    "}\n",
    "\n",
    "class Square does Element {\n",
    "    has Point $.origin;\n",
    "    has       $.side;\n",
    "\n",
    "    method area() { \n",
    "        #$.side ** 2    #need power math too!\n",
    "        $.side * $.side\n",
    "    }   \n",
    "\n",
    "    method serialize( --> Pair) {\n",
    "        rect => [ x =>  $!origin.x, y => $!origin.y, width => $!side, height => $!side, |self.styles ];\n",
    "    }   \n",
    "}\n",
    "\n",
    "my $x ♎️ '20 m';\n",
    "my $y ♎️ '20 m';\n",
    "my $w ♎️ '120 m';\n",
    "my $h ♎️ '80 m';\n",
    "my $s ♎️ '100 ft';\n",
    "\n",
    "my $rectangle = Rectangle.new(\n",
    "    origin => Point.new($x, $y),\n",
    "    width  => $w,\n",
    "    height => $h, \n",
    ");\n",
    "\n",
    "$x ♎️ 160;\n",
    "my $square = Square.new(\n",
    "    origin => Point.new($x, $y),\n",
    "    side => $s, \n",
    ");\n",
    "\n",
    "my $drawing = Drawing.new( elements => [\n",
    "    $rectangle,\n",
    "    $square,\n",
    "]);\n",
    "#$drawing.serialize.say;"
   ]
  },
  {
   "cell_type": "code",
   "execution_count": 3,
   "metadata": {},
   "outputs": [
    {
     "data": {
      "text/plain": [
       "Variable '$square' is not declared"
      ]
     },
     "execution_count": 3,
     "metadata": {},
     "output_type": "execute_result"
    }
   ],
   "source": [
    "\n",
    "say \"\";\n",
    "say \"Square Side:       {$square.side}\";\n",
    "say \"Square Area:       {$square.area}\";\n",
    "say \"\";\n",
    "say \"Rectangle Width:   {$rectangle.width}\";\n",
    "say \"Rectangle Height:  {$rectangle.height}\";\n",
    "say \"Rectangle Area:    {$rectangle.area}\";\n",
    "\n",
    "#`[[ \n",
    "#need sqrt method in Measure for the math to work\n",
    "#what's going to happen with trig? functions\n",
    "$x ♎️ 200;\n",
    "$y ♎️ 160;\n",
    "my $apex = Point.new(x => $x, y => $y),\n",
    "my $triangle = Triangle.new( apex => $apex, side => $s );\n",
    "\n",
    "say \"\";\n",
    "say \"Triangle Side:     {$triangle.side}\";\n",
    "say \"Triangle Apex:     {$triangle.apex}\";\n",
    "say \"Triangle Height:   {$triangle.height}\";\n",
    "say \"Triangle Area:     {$triangle.area}\";\n",
    "#]]\n",
    "\n",
    "#snagging\n",
    "# need power ** operator\n",
    "# catch sqrt as ** 1/2\n",
    "# need mechanism to convey Measure \"Role\" to e.g. Polygons classes\n",
    "# need to think about drawing elements to a scale\n",
    "# need to worry about trig functions - AB = BCcos(theta) take unit from BC\n",
    "# need to get it working with 2018.10 and then? 6.d"
   ]
  },
  {
   "cell_type": "code",
   "execution_count": null,
   "metadata": {},
   "outputs": [],
   "source": []
  }
 ],
 "metadata": {
  "kernelspec": {
   "display_name": "Perl 6",
   "language": "perl6",
   "name": "perl6"
  },
  "language_info": {
   "file_extension": ".p6",
   "mimetype": "text/plain",
   "name": "perl6",
   "version": "6.c"
  }
 },
 "nbformat": 4,
 "nbformat_minor": 2
}
