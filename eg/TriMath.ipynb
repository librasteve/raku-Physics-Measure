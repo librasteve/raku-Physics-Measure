{
 "cells": [
  {
   "cell_type": "code",
   "execution_count": 1,
   "metadata": {},
   "outputs": [
    {
     "data": {
      "text/plain": [
       "(M-Triangle)"
      ]
     },
     "execution_count": 1,
     "metadata": {},
     "output_type": "execute_result"
    }
   ],
   "source": [
    "use lib '../lib';\n",
    "use Math::Polygons;\n",
    "use Physics::Measure;\n",
    "\n",
    "class M-Drawing is Drawing {\n",
    "    has Str $!scale-units = 'm';\n",
    "\n",
    "    method scale() {\n",
    "        @.elements.map(-> $e { $e.scale( $!scale-units ) }); \n",
    "    }   \n",
    "}\n",
    "class M-Point is Point {\n",
    "    has Distance $.x;\n",
    "    has Distance $.y;\n",
    "\n",
    "    method scale( $su ) {\n",
    "        $!x .= in( \"$su\" );     \n",
    "        $!y .= in( \"$su\" );     \n",
    "    }\n",
    "}\n",
    "class M-Polygon is Polygon {\n",
    "    has M-Point @.points;\n",
    "}\n",
    "class M-Triangle is M-Polygon {\n",
    "    has M-Point  $.apex is required;\n",
    "    has Distance $.side is required;\n",
    "\n",
    "    method scale( $su ) { \n",
    "        $!side .= in( \"$su\" );  \n",
    "    } \n",
    "    method points() {\n",
    "        ($!apex, |self.base-points)\n",
    "    }\n",
    "    method base-points() {\n",
    "        my $y = $!apex.y + self.height;\n",
    "        my \\A = M-Point.new(:$y, x => $!apex.x - ( $!side / 2 ));\n",
    "        my \\C = M-Point.new(:$y, x => $!apex.x + ( $!side / 2 ));\n",
    "        return( A, C );\n",
    "    }\n",
    "    method height() {\n",
    "        sqrt($!side**2 - ($!side/2)**2)\n",
    "    }\n",
    "    method base() {\n",
    "        $!side\n",
    "    }\n",
    "    method area( ) {\n",
    "        ( $.height * $.base ) / 2\n",
    "    }\n",
    "}\n",
    "#### here endeth the specializations"
   ]
  },
  {
   "cell_type": "code",
   "execution_count": 2,
   "metadata": {},
   "outputs": [
    {
     "name": "stdout",
     "output_type": "stream",
     "text": [
      "Triangle Side:     100 ft\n",
      "Triangle Area:     4330.127018922193 ft2\n"
     ]
    }
   ],
   "source": [
    "use lib '../lib';\n",
    "use Math::Polygons;\n",
    "use Physics::Measure;\n",
    "\n",
    "my $x ♎️ '200 m';\n",
    "my $y ♎️ '160 m';\n",
    "my $s ♎️ '100 ft';\n",
    "\n",
    "my $apex     = M-Point.new(x => $x, y => $y),\n",
    "my $triangle = M-Triangle.new( apex => $apex, side => $s );\n",
    "\n",
    "my $drawing = M-Drawing.new( elements => [\n",
    "    $triangle,\n",
    "]);\n",
    "\n",
    "#pre scale & draw\n",
    "say \"Triangle Side:     {$triangle.side}\";\n",
    "say \"Triangle Area:     {$triangle.area}\";"
   ]
  },
  {
   "cell_type": "code",
   "execution_count": 3,
   "metadata": {},
   "outputs": [
    {
     "data": {
      "image/svg+xml": [
       "<svg xmlns=\"http://www.w3.org/2000/svg\" xmlns:svg=\"http://www.w3.org/2000/svg\" xmlns:xlink=\"http://www.w3.org/1999/xlink\" height=\"768\" width=\"1024\"><polygon points=\"200,160 184.76,186.3964543073497 215.24,186.3964543073497\" stroke=\"blue\" stroke-width=\"3\" fill=\"red\" />\n",
       "</svg>\n",
       "\n"
      ]
     },
     "metadata": {},
     "output_type": "display_data"
    }
   ],
   "source": [
    "use lib '../lib';\n",
    "use Math::Polygons;\n",
    "use Physics::Measure;\n",
    "\n",
    "$drawing.scale;\n",
    "$drawing.serialize.say;"
   ]
  },
  {
   "cell_type": "code",
   "execution_count": 6,
   "metadata": {},
   "outputs": [
    {
     "name": "stdout",
     "output_type": "stream",
     "text": [
      "Triangle Side:     30.48 m\n",
      "Triangle Apex:     200 m, 160 m\n",
      "Triangle Height:   26.39645430734969 m\n",
      "Triangle Area:     402.2819636440093 m2\n"
     ]
    }
   ],
   "source": [
    "use lib '../lib';\n",
    "use Math::Polygons;\n",
    "use Physics::Measure;\n",
    "\n",
    "#post scale & draw\n",
    "say \"Triangle Side:     {$triangle.side}\";\n",
    "say \"Triangle Apex:     {$triangle.apex}\"; \n",
    "say \"Triangle Height:   {$triangle.height}\";\n",
    "say \"Triangle Area:     {$triangle.area}\";"
   ]
  },
  {
   "cell_type": "code",
   "execution_count": null,
   "metadata": {},
   "outputs": [],
   "source": []
  }
 ],
 "metadata": {
  "kernelspec": {
   "display_name": "Perl 6",
   "language": "perl6",
   "name": "perl6"
  },
  "language_info": {
   "file_extension": ".p6",
   "mimetype": "text/plain",
   "name": "perl6",
   "version": "6.d"
  }
 },
 "nbformat": 4,
 "nbformat_minor": 2
}
