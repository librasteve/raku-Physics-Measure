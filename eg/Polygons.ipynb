{
 "cells": [
  {
   "cell_type": "code",
   "execution_count": 5,
   "metadata": {},
   "outputs": [
    {
     "data": {
      "image/svg+xml": [
       "<svg xmlns=\"http://www.w3.org/2000/svg\" xmlns:svg=\"http://www.w3.org/2000/svg\" xmlns:xlink=\"http://www.w3.org/1999/xlink\" height=\"768\" width=\"1024\"><rect x=\"20\" y=\"20\" width=\"120\" height=\"80\" stroke=\"blue\" stroke-width=\"3\" fill=\"red\" />\n",
       "<rect x=\"170\" y=\"20\" width=\"100\" height=\"100\" stroke=\"blue\" stroke-width=\"3\" fill=\"red\" />\n",
       "<polygon points=\"20, 260 30, 200 120, 145 125, 250\" stroke=\"blue\" stroke-width=\"3\" fill=\"red\" />\n",
       "<polygon points=\"220, 160 170, 246.602540378444 270, 246.602540378444\" stroke=\"black\" stroke-width=\"3\" fill=\"blue\" />\n",
       "</svg>\n",
       "\n"
      ]
     },
     "metadata": {},
     "output_type": "display_data"
    }
   ],
   "source": [
    "use lib '../lib';\n",
    "use Math::Polygons;\n",
    "use Math::Polygons::Drawing;\n",
    "\n",
    "my $rectangle = Rectangle.new( \n",
    "    origin => Point.new(20, 20),\n",
    "    width  => 120, \n",
    "    height => 80  \n",
    ");\n",
    "\n",
    "my $square = Square.new( \n",
    "    origin => Point.new(170, 20),\n",
    "    side   => 100 \n",
    ");\n",
    "\n",
    "my \\A = Point.new( 20, 260);\n",
    "my \\B = Point.new( 30, 200);\n",
    "my \\C = Point.new(120, 145);\n",
    "my \\D = Point.new(125, 250);\n",
    "my $quadrilateral = Quadrilateral.new(\n",
    "    A, B, C, D,  \n",
    ");\n",
    "\n",
    "my $triangle = Triangle.new(\n",
    "    fill => \"blue\",\n",
    "    stroke => \"black\",\n",
    "    apex => Point.new(220, 160),\n",
    "    side => 100 \n",
    ");\n",
    "\n",
    "my $drawing = Drawing.new( \n",
    "    elements => [ \n",
    "        $rectangle, \n",
    "        $square,\n",
    "        $quadrilateral,\n",
    "        $triangle,\n",
    "    ],\n",
    ");\n",
    "$drawing.serialize.say;"
   ]
  },
  {
   "cell_type": "code",
   "execution_count": 6,
   "metadata": {},
   "outputs": [
    {
     "name": "stdout",
     "output_type": "stream",
     "text": [
      "Rectangle Area: 9600\n",
      "Square Area:    10000\n",
      "Triangle Area:  4330.12701892219\n"
     ]
    }
   ],
   "source": [
    "say \"Rectangle Area: {$rectangle.area}\";\n",
    "say \"Square Area:    {$square.area}\";\n",
    "say \"Triangle Area:  {$triangle.area}\";"
   ]
  },
  {
   "cell_type": "code",
   "execution_count": null,
   "metadata": {},
   "outputs": [],
   "source": []
  }
 ],
 "metadata": {
  "kernelspec": {
   "display_name": "Perl 6",
   "language": "perl6",
   "name": "perl6"
  },
  "language_info": {
   "file_extension": ".p6",
   "mimetype": "text/plain",
   "name": "perl6",
   "version": "6.c"
  }
 },
 "nbformat": 4,
 "nbformat_minor": 2
}
