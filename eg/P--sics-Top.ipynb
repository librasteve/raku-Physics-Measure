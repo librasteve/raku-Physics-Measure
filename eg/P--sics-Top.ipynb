{
 "cells": [
  {
   "cell_type": "code",
   "execution_count": 2,
   "metadata": {},
   "outputs": [
    {
     "name": "stdout",
     "output_type": "stream",
     "text": [
      "Physics::Measure::Distance.new(units => \"m\" ... )\n",
      "Physics::Unit::Unit.new(name => \"m\", unitsof => \"Distance\" ... )\n",
      "50\n",
      "50 m\n",
      "50 m\n"
     ]
    },
    {
     "data": {
      "text/plain": [
       "Physics::Measure::Frequency.new(units => \"Hz\" ... )"
      ]
     },
     "execution_count": 2,
     "metadata": {},
     "output_type": "execute_result"
    }
   ],
   "source": [
    "use v6;\n",
    "use lib '../lib';\n",
    "use Physics::Measure;\n",
    "use Physics::Measure::Unit;\n",
    "\n",
    "#SYNOPSIS\n",
    "\n",
    "#Types can be declared and constructed formally:\n",
    "    my Unit $u     .=new(name => 'm', unitsof => 'Distance');       #new Units for new Measure\n",
    "    my Distance $a .=new(value => 1e4, units => $u);                #'10000 m'\n",
    "    my Distance $b .=new(value => 42);                              #'42 m' default units\n",
    "    my Distance $c;\n",
    "    \n",
    "#The libra operator ♎️ is a handy way to create instances and to set defaults...\n",
    "    my $d ♎️ '5e1 m';      #'50 m' (Distance) from Str\n",
    "    my $e ♎️ $a;           #'10000 m'\n",
    "#...and to assign (coerce) from a Real or Str immediate value\n",
    "    $a ♎️ '3e1';        #'30 m'\n",
    "    $a ♎️ '3 yards';    #'3 yards'\n",
    "    $a ♎️ '5';          #'5 yards'\n",
    "#...there is an ASCII version of <♎️> namely <libra> \n",
    "\n",
    "#Plural and Singular names are handled as you would expect\n",
    "    $a ♎️ -1;           #'-1 yard'\n",
    "\n",
    "#To check what you have\n",
    "    say $d.gist;        #Physics::Measure::Distance.new(value => 50e0, units => \"m\" ... )\n",
    "    say $u.gist;        #Physics::Unit::Unit.new(name => \"m\", unitsof => \"Distance\" ...)\n",
    "    say $d.Real;        #50   or use $d in Real context (Real includes Int|Rat|Num etc)\n",
    "    say $d.Str;         #50 m or use $d in Str context\n",
    "    say \"$d\";           #50 m\n",
    "\n",
    "#The usual arithmetic operators < + - * / > and () brackets just work\n",
    "#i.e. units and magnitudes are checked, calculated and errors are calculated automatically    \n",
    "    $a ♎️ '4.3 m';      #'4.3 m' \n",
    "    $b ♎️ -2.3;         #'-2.3 m'\n",
    "    $c = $a + $b;       #'2 m'\n",
    "    $c = $a + '42 m';   #'46.3 m'\n",
    "    $c = $b - $a;       #'-6.6 m'\n",
    "    $c = '1 m' - $a;    #'-3.3 m' \n",
    "#Division like for like produces a Real value such as a Rat\n",
    "    my Real $r = $a / $b; #'-1.869565'\n",
    "#Multiply with & Divide by a Real imply a constant factor...\n",
    "    $c = $b * 30;       #'-69 m'\n",
    "\n",
    "#The Measure of Time has a perl6 Duration - i.e. the difference between two perl6 DateTime Instants:\n",
    "    my $i1 = DateTime.now;\n",
    "    my $i2 = DateTime.new( '2017-08-10T14:15:27.26Z' );\n",
    "    my $i3 = DateTime.new( '2017-08-10T14:15:37.26Z' );\n",
    "    my Duration $dur = $i3-$i2; #say \"Duration of $dur seconds\";\n",
    "\n",
    "    my Unit $v  .=new( name => 's', unitsof => 'Time' );\n",
    "    my Time $t0 .=new( value => 23.3, units => $v );    #'23.3 s'\n",
    "    my Time $t1 .=new( value => $dur, units => $v );    #'10 s'\n",
    "    \n",
    "#Here's how to us the libra assignment operator ♎️ for Time...\n",
    "    my Time $t2 ♎️ '5e1 s';      #50 s\n",
    "    my Time $t3 ♎️ $t1;          #10 s\n",
    "    my Time $t4 ♎️ 172;          #10 s\n",
    "\n",
    "#...and to assign (coerce) from a Real or Str immediate value\n",
    "    my Time $t5 ♎️ '3e1 s';      #30 s\n",
    "    my Time $t6 ♎️ 42;           #42 s\n",
    "\n",
    "    my $t7 = $t1 + $t2;         #60 s\n",
    "    my $t8 = $t3 - $t4;         #-162 s\n",
    "    my Duration $d8 = $t8.Duration;\n",
    "    my Time $t10 ♎️ '2 hours';\n",
    "\n",
    "#Unit Conversion uses the .in() method - specify the new units as a String parameter\n",
    "    my Distance $d-fe ♎️ '12.0 feet';\n",
    "    my $d-me3 = $d-fe.in( 'm' );            #3.6576 m\n",
    "       $d-me3 = $d-fe.in: <m> ;             #3.6576 m alternate form\n",
    "\n",
    "    my Temperature $deg-c ♎️ '39 °C';\n",
    "    my $deg-k = $deg-c.in( 'K' );           #312.15 K\n",
    "    my $deg-cr = $deg-k.in( '°C' );         #39 °C\n",
    "\n",
    "#Use arithmetic to get high order or inverse Unit types such as Area, Volume, Frequency, etc.\n",
    "    my Area $a-m2   = $d * $d;              #2500 m2\n",
    "    my Speed $s     = $d / $t6;             #1.19047619047619 m/s\n",
    "    my Frequency $f = 1  / $t6;             #0.023810 Hz"
   ]
  },
  {
   "cell_type": "code",
   "execution_count": null,
   "metadata": {},
   "outputs": [],
   "source": []
  }
 ],
 "metadata": {
  "kernelspec": {
   "display_name": "Perl 6",
   "language": "perl6",
   "name": "perl6"
  },
  "language_info": {
   "file_extension": ".p6",
   "mimetype": "text/plain",
   "name": "perl6",
   "version": "6.c"
  }
 },
 "nbformat": 4,
 "nbformat_minor": 2
}
